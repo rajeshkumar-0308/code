{
 "cells": [
  {
   "cell_type": "code",
   "execution_count": null,
   "id": "d38e2599",
   "metadata": {
    "vscode": {
     "languageId": "plaintext"
    }
   },
   "outputs": [],
   "source": [
    "from pgmpy.models import BayesianModel\n",
    "from pgmpy.factors.discrete import TabularCPD\n",
    "from pgmpy.inference import VariableElimination\n",
    "import numpy as np\n",
    "\n",
    "# Define the Bayesian Network\n",
    "bayesNet = BayesianModel()\n",
    "bayesNet.add_nodes_from([\"M\", \"U\", \"R\", \"B\", \"S\"])\n",
    "bayesNet.add_edges_from([\n",
    "    (\"M\", \"R\"),\n",
    "    (\"U\", \"R\"),\n",
    "    (\"B\", \"R\"),\n",
    "    (\"B\", \"S\"),\n",
    "    (\"R\", \"S\")\n",
    "])\n",
    "\n",
    "# Define CPDs\n",
    "cpd_M = TabularCPD('M', 2, values=[[0.95], [0.05]])\n",
    "cpd_U = TabularCPD('U', 2, values=[[0.85], [0.15]])\n",
    "cpd_B = TabularCPD('B', 2, values=[[0.90], [0.10]])\n",
    "\n",
    "cpd_R = TabularCPD('R', 2, values=[\n",
    "    [0.96, 0.86, 0.94, 0.82, 0.24, 0.15, 0.10, 0.05],\n",
    "    [0.04, 0.14, 0.06, 0.18, 0.76, 0.85, 0.90, 0.95]\n",
    "], evidence=['M', 'B', 'U'], evidence_card=[2, 2, 2])\n",
    "\n",
    "cpd_S = TabularCPD('S', 2, values=[\n",
    "    [0.98, 0.88, 0.95, 0.60],\n",
    "    [0.02, 0.12, 0.05, 0.40]\n",
    "], evidence=['R', 'B'], evidence_card=[2, 2])\n",
    "\n",
    "# Add CPDs to the model\n",
    "bayesNet.add_cpds(cpd_M, cpd_U, cpd_B, cpd_R, cpd_S)\n",
    "\n",
    "# Check if the model is valid\n",
    "assert bayesNet.check_model()\n",
    "print(\"Model is correct\")\n"
   ]
  }
 ],
 "metadata": {
  "language_info": {
   "name": "python"
  }
 },
 "nbformat": 4,
 "nbformat_minor": 5
}
